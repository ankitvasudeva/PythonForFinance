{
 "cells": [
  {
   "cell_type": "code",
   "execution_count": 1,
   "metadata": {},
   "outputs": [],
   "source": [
    "import pandas as pd\n",
    "import datetime as dt\n",
    "from nsepy import get_history\n"
   ]
  },
  {
   "cell_type": "code",
   "execution_count": 3,
   "metadata": {},
   "outputs": [],
   "source": [
    "# This function will return the dataframe filled with NSE data"
   ]
  },
  {
   "cell_type": "code",
   "execution_count": 4,
   "metadata": {},
   "outputs": [],
   "source": [
    "def getHistoricalData(stockSymbol, startDate):\n",
    "    end= dt.date.today()\n",
    "    stockData = get_history(symbol=stockSymbol, start=startDate, end=end)\n",
    "    return stockData"
   ]
  },
  {
   "cell_type": "code",
   "execution_count": 5,
   "metadata": {},
   "outputs": [],
   "source": [
    "# This function will save the data to data location"
   ]
  },
  {
   "cell_type": "code",
   "execution_count": 6,
   "metadata": {},
   "outputs": [],
   "source": [
    "def saveNSEData(stockSymbol, startDate):\n",
    "    df = getHistoricalData(stockSymbol,startDate)\n",
    "    df.to_csv('~/Notebook/data/stocks/nse/'+stockSymbol+'.csv')\n",
    "    return"
   ]
  },
  {
   "cell_type": "code",
   "execution_count": null,
   "metadata": {},
   "outputs": [],
   "source": [
    "# This function will save data in Weekly, Monthly and Year time frames Eg: <StockSymbol>_Weekly.csv"
   ]
  },
  {
   "cell_type": "code",
   "execution_count": 10,
   "metadata": {},
   "outputs": [],
   "source": [
    "def saveNSEAggregated(stockSymbol):\n",
    "    df = pd.read_csv('~/Notebook/data/stocks/nse/'+stockSymbol+'.csv')\n",
    "    df['Date'] = pd.to_datetime(df['Date'])\n",
    "    df['Week'] = df['Date'].dt.isocalendar().week\n",
    "    df['Month'] = df['Date'].dt.month\n",
    "    df['Year'] = df['Date'].dt.isocalendar().year\n",
    "    df_Weekly = df.groupby(['Year', 'Week']).agg({'Open':'first', 'Close':'last','High' : 'max','Low': 'min', 'Volume' :'sum','%Deliverble' : 'mean'})\n",
    "    df_Monthly = df.groupby(['Year', 'Month']).agg({'Open':'first', 'Close':'last','High' : 'max','Low': 'min', 'Volume' :'sum','%Deliverble' : 'mean'})\n",
    "    df_Yearly = df.groupby(['Year']).agg({'Open':'first', 'Close':'last','High' : 'max','Low': 'min', 'Volume' :'sum','%Deliverble' : 'mean'})\n",
    "    df_Weekly.to_csv('~/Notebook/data/stocks/nse/'+stockSymbol+'_Weekly.csv')\n",
    "    df_Monthly.to_csv('~/Notebook/data/stocks/nse/'+stockSymbol+'_Monthly.csv')\n",
    "    df_Yearly.to_csv('~/Notebook/data/stocks/nse/'+stockSymbol+'_Yearly.csv')\n",
    "    return"
   ]
  },
  {
   "cell_type": "code",
   "execution_count": null,
   "metadata": {},
   "outputs": [],
   "source": [
    "saveNSEData('INFY',dt.date(2000,1,1))"
   ]
  },
  {
   "cell_type": "code",
   "execution_count": null,
   "metadata": {},
   "outputs": [],
   "source": [
    "saveNSEAggregated('INFY')"
   ]
  },
  {
   "cell_type": "code",
   "execution_count": null,
   "metadata": {},
   "outputs": [],
   "source": []
  }
 ],
 "metadata": {
  "kernelspec": {
   "display_name": "Python 3",
   "language": "python",
   "name": "python3"
  },
  "language_info": {
   "codemirror_mode": {
    "name": "ipython",
    "version": 3
   },
   "file_extension": ".py",
   "mimetype": "text/x-python",
   "name": "python",
   "nbconvert_exporter": "python",
   "pygments_lexer": "ipython3",
   "version": "3.7.3"
  }
 },
 "nbformat": 4,
 "nbformat_minor": 4
}
