{
 "cells": [
  {
   "cell_type": "code",
   "execution_count": 1,
   "metadata": {},
   "outputs": [],
   "source": [
    "import yfinance as yf\n",
    "import pandas as pd"
   ]
  },
  {
   "cell_type": "code",
   "execution_count": 2,
   "metadata": {},
   "outputs": [],
   "source": [
    "# valid periods: 1d,5d,1mo,3mo,6mo,1y,2y,5y,10y,ytd,max\n",
    "# Yahoo Symbols Like INFY.NS, TITAN.BO"
   ]
  },
  {
   "cell_type": "code",
   "execution_count": 3,
   "metadata": {},
   "outputs": [],
   "source": [
    "def saveYahooHistoricData(stockSymbol, period):\n",
    "    stock = yf.Ticker(stockSymbol)\n",
    "    stockData = stock.history(period=period)\n",
    "    stockData.to_csv('~/Notebook/data/stocks/yf/'+stockSymbol+'.csv')\n",
    "    saveYahooAggregated(stockSymbol)\n",
    "    return"
   ]
  },
  {
   "cell_type": "code",
   "execution_count": 4,
   "metadata": {},
   "outputs": [],
   "source": [
    "def saveYahooAggregated(stockSymbol):\n",
    "    df = pd.read_csv('~/Notebook/data/stocks/yf/'+stockSymbol+'.csv')\n",
    "    df['Date'] = pd.to_datetime(df['Date'])\n",
    "    df_Weekly = df.resample('W',on='Date').agg({'Open':'first', 'Close':'last','High' : 'max','Low': 'min', 'Volume' :'sum'})\n",
    "    df_Monthly = df.resample('M',on='Date').agg({'Open':'first', 'Close':'last','High' : 'max','Low': 'min', 'Volume' :'sum'})\n",
    "    df_Yearly = df.resample('Y',on='Date').agg({'Open':'first', 'Close':'last','High' : 'max','Low': 'min', 'Volume' :'sum'})\n",
    "    df_Weekly.to_csv('~/Notebook/data/stocks/yf/'+stockSymbol+'_Weekly.csv')\n",
    "    df_Monthly.to_csv('~/Notebook/data/stocks/yf/'+stockSymbol+'_Monthly.csv')\n",
    "    df_Yearly.to_csv('~/Notebook/data/stocks/yf/'+stockSymbol+'_Yearly.csv')\n",
    "    return\n",
    "    "
   ]
  },
  {
   "cell_type": "code",
   "execution_count": 5,
   "metadata": {},
   "outputs": [],
   "source": [
    "saveYahooHistoricData('ITC.BO','max')"
   ]
  },
  {
   "cell_type": "code",
   "execution_count": null,
   "metadata": {},
   "outputs": [],
   "source": []
  },
  {
   "cell_type": "code",
   "execution_count": null,
   "metadata": {},
   "outputs": [],
   "source": []
  }
 ],
 "metadata": {
  "kernelspec": {
   "display_name": "Python 3",
   "language": "python",
   "name": "python3"
  },
  "language_info": {
   "codemirror_mode": {
    "name": "ipython",
    "version": 3
   },
   "file_extension": ".py",
   "mimetype": "text/x-python",
   "name": "python",
   "nbconvert_exporter": "python",
   "pygments_lexer": "ipython3",
   "version": "3.7.3"
  }
 },
 "nbformat": 4,
 "nbformat_minor": 4
}
