{
 "cells": [
  {
   "cell_type": "code",
   "execution_count": 16,
   "metadata": {},
   "outputs": [],
   "source": [
    "import pandas as pd\n",
    "import numpy as np\n",
    "from sklearn.linear_model import LinearRegression\n",
    "from sklearn.metrics import mean_absolute_error\n",
    "from sklearn.preprocessing import MinMaxScaler\n",
    "from sklearn.model_selection import train_test_split\n",
    "from sklearn.model_selection import  RandomizedSearchCV,GridSearchCV\n",
    "from sklearn.ensemble import RandomForestRegressor,BaggingRegressor,GradientBoostingRegressor,AdaBoostRegressor\n",
    "import matplotlib.pyplot as plt\n",
    "%matplotlib inline"
   ]
  },
  {
   "cell_type": "code",
   "execution_count": 17,
   "metadata": {},
   "outputs": [],
   "source": [
    "def createDataframe(stockName,bb_intervals,bb_std):\n",
    "    df = pd.read_csv(\"../data/stocks/yf/\"+stockName+\".csv\",index_col=0)\n",
    "    for sma_period in bb_intervals:\n",
    "        field_name = \"SMA_%d\" % (sma_period)\n",
    "        df[field_name] = df['Close'].rolling(sma_period).mean()\n",
    "        for std_period in bb_std:\n",
    "            field_name_up = \"BB_UP_%d_%s\" % (sma_period,std_period)\n",
    "            field_name_down = \"BB_DOWN_%d_%s\" % (sma_period,std_period)\n",
    "            df[field_name_up] = df['Close'].rolling(sma_period).mean() + std_period*df['Close'].rolling(sma_period).std()\n",
    "            df[field_name_down] = df['Close'].rolling(sma_period).mean() - std_period*df['Close'].rolling(sma_period).std()\n",
    "        Donchian_Channel_up = \"DC_Up_%d\" % (sma_period)\n",
    "        Donchian_Channel_down = \"DC_Down_%d\" % (sma_period)\n",
    "        df[Donchian_Channel_up] = df['High'].rolling(sma_period).max()\n",
    "        df[Donchian_Channel_down] = df['Low'].rolling(sma_period).min()\n",
    "    return df"
   ]
  },
  {
   "cell_type": "code",
   "execution_count": 18,
   "metadata": {},
   "outputs": [],
   "source": [
    "def createLags(df,shift_lag,frwd_lag):\n",
    "    newdata = df['Close'].to_frame()\n",
    "    for lag in shift_lag:\n",
    "        shift = lag\n",
    "        shifted = df.shift(shift)\n",
    "        shifted.columns = [str.format(\"%s_shifted_by_%d\" % (column ,shift)) for column in shifted.columns]\n",
    "        newdata = pd.concat((newdata,shifted),axis=1)\n",
    "    \n",
    "    newdata['target'] = newdata['Close'].shift(-frwd_lag)\n",
    "    newdata = newdata.drop('Close',axis=1)\n",
    "    newdata = newdata.dropna()\n",
    "    return newdata"
   ]
  },
  {
   "cell_type": "code",
   "execution_count": 19,
   "metadata": {},
   "outputs": [],
   "source": [
    "def runLinearRegression(df,size,features, draw_chart):\n",
    "    X = df.drop(\"target\",axis=1)\n",
    "    Y = df['target']\n",
    "\n",
    "    #X_train, X_test, y_train, y_test = train_test_split(X, Y, test_size=(1-size), random_state=42)\n",
    "    train_size = int(X.shape[0]*size)\n",
    "\n",
    "    X_train = X[0:train_size]\n",
    "    y_train = Y[0:train_size]\n",
    "\n",
    "    X_test = X[train_size:]\n",
    "    y_test = Y[train_size:]\n",
    "    correlations = np.abs(X_train.corrwith(y_train))\n",
    "    features =  list(correlations.sort_values(ascending=False)[0:features].index)\n",
    "    X_train = X_train[features]\n",
    "    X_test = X_test[features]\n",
    "    lr = LinearRegression()\n",
    "    lr.fit(X_train,y_train)\n",
    "    y_pred = lr.predict(X_test)\n",
    "    err= mean_absolute_error(y_test,y_pred)\n",
    "    if (draw_chart):\n",
    "        plt.scatter(y_test,y_pred)\n",
    "        plt.xlabel(\"Actual\")\n",
    "        plt.ylabel(\"Predicted\")\n",
    "        plt.title(\"Linear regression\")\n",
    "        plt.show()\n",
    "    return err"
   ]
  },
  {
   "cell_type": "code",
   "execution_count": 23,
   "metadata": {},
   "outputs": [],
   "source": [
    "def runLinearBaggingRegression(df,size,features, draw_chart):\n",
    "    X = df.drop(\"target\",axis=1)\n",
    "    Y = df['target']\n",
    "\n",
    "    #X_train, X_test, y_train, y_test = train_test_split(X, Y, test_size=(1-size), random_state=42)\n",
    "    train_size = int(X.shape[0]*size)\n",
    "\n",
    "    X_train = X[0:train_size]\n",
    "    y_train = Y[0:train_size]\n",
    "\n",
    "    X_test = X[train_size:]\n",
    "    y_test = Y[train_size:]\n",
    "    correlations = np.abs(X_train.corrwith(y_train))\n",
    "    features =  list(correlations.sort_values(ascending=False)[0:features].index)\n",
    "    X_train = X_train[features]\n",
    "    X_test = X_test[features]\n",
    "    lr_bag = RandomizedSearchCV(BaggingRegressor(LinearRegression()),param_distributions =  {\n",
    "                                'n_estimators':np.arange(10,200,5),\n",
    "                                'max_features':np.arange(1,5,1)\n",
    "                            },\n",
    "                            cv=5, n_iter = 20,\n",
    "                            iid=False,random_state=0,refit=True,\n",
    "                            scoring=\"neg_mean_absolute_error\")\n",
    "\n",
    "    lr_bag.fit(X_train,y_train)\n",
    "    y_pred = lr_bag.predict(X_test)\n",
    "    err= mean_absolute_error(y_test,y_pred)\n",
    "    if (draw_chart):\n",
    "        plt.scatter(y_test,y_pred)\n",
    "        plt.xlabel(\"Actual\")\n",
    "        plt.ylabel(\"Predicted\")\n",
    "        plt.title(\"Linear regression Bagging\")\n",
    "        plt.show()\n",
    "    return err"
   ]
  },
  {
   "cell_type": "code",
   "execution_count": 24,
   "metadata": {},
   "outputs": [],
   "source": [
    "def runRandomForest(df,size,features, draw_chart):\n",
    "    X = df.drop(\"target\",axis=1)\n",
    "    Y = df['target']\n",
    "\n",
    "    #X_train, X_test, y_train, y_test = train_test_split(X, Y, test_size=(1-size), random_state=42)\n",
    "    train_size = int(X.shape[0]*size)\n",
    "\n",
    "    X_train = X[0:train_size]\n",
    "    y_train = Y[0:train_size]\n",
    "\n",
    "    X_test = X[train_size:]\n",
    "    y_test = Y[train_size:]\n",
    "    correlations = np.abs(X_train.corrwith(y_train))\n",
    "    features =  list(correlations.sort_values(ascending=False)[0:features].index)\n",
    "    X_train = X_train[features]\n",
    "    X_test = X_test[features]\n",
    "    rf = RandomizedSearchCV(RandomForestRegressor(),param_distributions =  {\n",
    "                                'n_estimators':np.arange(10,200,5),\n",
    "                                'max_features':np.arange(1,5,1)\n",
    "                            },\n",
    "                            cv=5, n_iter = 20,\n",
    "                            iid=False,random_state=0,refit=True,\n",
    "                            scoring=\"neg_mean_absolute_error\")\n",
    "\n",
    "    rf.fit(X_train,y_train)\n",
    "    y_pred = rf.predict(X_test)\n",
    "    err=mean_absolute_error(y_test,y_pred)\n",
    "    if (draw_chart):\n",
    "        plt.scatter(y_test,y_pred)\n",
    "        plt.xlabel(\"Actual\")\n",
    "        plt.ylabel(\"Predicted\")\n",
    "        plt.title(\"Random FOrest\")\n",
    "        plt.show()\n",
    "    return err"
   ]
  },
  {
   "cell_type": "code",
   "execution_count": 27,
   "metadata": {},
   "outputs": [
    {
     "name": "stderr",
     "output_type": "stream",
     "text": [
      "/usr/local/lib/python3.7/dist-packages/sklearn/model_selection/_search.py:849: FutureWarning: The parameter 'iid' is deprecated in 0.22 and will be removed in 0.24.\n",
      "  \"removed in 0.24.\", FutureWarning\n"
     ]
    },
    {
     "data": {
      "image/png": "[encoded data removed]",
      "text/plain": [
       "<Figure size 432x288 with 1 Axes>"
      ]
     },
     "metadata": {
      "needs_background": "light"
     },
     "output_type": "display_data"
    },
    {
     "data": {
      "text/plain": [
       "9.246286952676085"
      ]
     },
     "execution_count": 27,
     "metadata": {},
     "output_type": "execute_result"
    }
   ],
   "source": [
    "stockname ='ITC.BO_Weekly'\n",
    "bb_intervals = [5,8,10,12,20,50]\n",
    "bb_std = [1,2]\n",
    "shift_lag = [1,2,3,4,5,6,7,8]\n",
    "frwd_lag = 1\n",
    "test_sample_size = 0.7\n",
    "features_count = 5\n",
    "draw_chart = True\n",
    "\n",
    "df = createDataframe(stockname,bb_intervals,bb_std)\n",
    "df1 = createLags(df,shift_lag,frwd_lag)\n",
    "#runLinearRegression(df1,test_sample_size,features_count,draw_chart)\n",
    "#runRandomForest(df1,test_sample_size,features_count,draw_chart)\n",
    "runLinearBaggingRegression(df1,test_sample_size,features_count,draw_chart)"
   ]
  },
  {
   "cell_type": "code",
   "execution_count": null,
   "metadata": {},
   "outputs": [],
   "source": []
  }
 ],
 "metadata": {
  "kernelspec": {
   "display_name": "Python 3",
   "language": "python",
   "name": "python3"
  },
  "language_info": {
   "codemirror_mode": {
    "name": "ipython",
    "version": 3
   },
   "file_extension": ".py",
   "mimetype": "text/x-python",
   "name": "python",
   "nbconvert_exporter": "python",
   "pygments_lexer": "ipython3",
   "version": "3.7.3"
  }
 },
 "nbformat": 4,
 "nbformat_minor": 4
}
